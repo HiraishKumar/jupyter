{
 "cells": [
  {
   "cell_type": "code",
   "execution_count": null,
   "metadata": {},
   "outputs": [],
   "source": [
    "#notes\n",
    "import string\n",
    "def Encrypter(initial_string:str,cypher:int=3)-> str:\n",
    "    '''\n",
    "    shift the postion of the element in the string base {cypher} No. of times\n",
    "    '''\n",
    "    encrypt=''    \n",
    "    string_base=[i for i in (string.ascii_letters+string.digits+' ')]\n",
    "    #'abcdefghijklmnopqrstuvwxyzABCDEFGHIJKLMNOPQRSTUVWXYZ0123456789 '\n",
    "    for letter in initial_string:\n",
    "        new_letter_index=string_base.index(letter)+cypher\n",
    "        if new_letter_index>=len(string_base)-1:\n",
    "            if letter in string_base:\n",
    "                new_letter_index-=len(string_base)\n",
    "                encrypt+=string_base[new_letter_index]\n",
    "            else:\n",
    "                pass\n",
    "        else:\n",
    "            encrypt+=string_base[new_letter_index]\n",
    "\n",
    "    return encrypt   \n",
    " \n",
    "def Decrypter(initial_string:str,cypher:int=3)-> str:\n",
    "    '''\n",
    "    shift the postion of the element in the string base BACK {cypher} No. of times\n",
    "    (to mentain integrity decrypt with the same cypher as encryption)\n",
    "    '''   \n",
    "    decrypt=''\n",
    "    string_base=[i for i in (string.ascii_letters+string.digits+' ')]\n",
    "    #'abcdefghijklmnopqrstuvwxyzABCDEFGHIJKLMNOPQRSTUVWXYZ0123456789 '\n",
    "    for letter in initial_string:        \n",
    "        new_letter_index=string_base.index(letter)-cypher\n",
    "        decrypt+=string_base[new_letter_index]\n",
    "            \n",
    "    return decrypt\n",
    "\n",
    "import pandas as pd\n",
    "df = pd.read_csv('password_database.csv')\n",
    "\n",
    "df.loc[:, 'Password'] = Encrypter(df.loc[:, 'Password'])\n",
    "df.head(10)"
   ]
  }
 ],
 "metadata": {
  "language_info": {
   "name": "python"
  },
  "orig_nbformat": 4
 },
 "nbformat": 4,
 "nbformat_minor": 2
}
